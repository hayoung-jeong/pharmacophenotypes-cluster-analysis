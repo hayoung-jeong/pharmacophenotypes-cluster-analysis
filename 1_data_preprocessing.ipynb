{
 "cells": [
  {
   "cell_type": "markdown",
   "id": "1fd9a69a",
   "metadata": {},
   "source": [
    "# Dataset Preparation"
   ]
  },
  {
   "cell_type": "code",
   "execution_count": 1,
   "id": "9ad8edb3",
   "metadata": {},
   "outputs": [],
   "source": [
    "import numpy as np\n",
    "import pandas as pd"
   ]
  },
  {
   "cell_type": "markdown",
   "id": "72893d61",
   "metadata": {},
   "source": [
    "# 1. Import Dataset"
   ]
  },
  {
   "cell_type": "code",
   "execution_count": 12,
   "id": "5fa18edf",
   "metadata": {},
   "outputs": [
    {
     "name": "stderr",
     "output_type": "stream",
     "text": [
      "/var/folders/54/1zrdd3f502z54thfc2d33g580000gn/T/ipykernel_73985/2727333952.py:2: DtypeWarning: Columns (6,18) have mixed types. Specify dtype option on import or set low_memory=False.\n",
      "  med_data = pd.read_csv('data/med_admin.csv')\n"
     ]
    }
   ],
   "source": [
    "master_table = pd.read_csv('data/master_table_991patients_09_27_21.csv') # patient information/outcomes\n",
    "med_data = pd.read_csv('data/med_admin.csv') # medication record\n",
    "df_med_list = pd.read_csv(\"data/Emory Meds 10.15.21.csv\") # metadata on medications\n",
    "df_med_list.loc[:, \"ROUTE\"] = df_med_list[\"ROUTE\"].str.replace('\\W', '')\n",
    "df_med_list.loc[:, \"ROUTE\"] = df_med_list[\"ROUTE\"].str.upper()\n",
    "med_dict = dict(zip(df_med_list.DESCRIPTION.str.upper().tolist(),df_med_list.FIRST_NAME))\n",
    "route_dict = dict(zip(df_med_list.DESCRIPTION.str.upper().tolist(), df_med_list.ROUTE))"
   ]
  },
  {
   "cell_type": "code",
   "execution_count": 13,
   "id": "ca3acea3",
   "metadata": {},
   "outputs": [
    {
     "data": {
      "text/plain": [
       "Index(['PATIENT_DEID', 'ENCOUNTER_DEID', 'ORDERING_DATE_DEID', 'MEDICATION_ID',\n",
       "       'DESCRIPTION', 'QUANTITY', 'REFILLS', 'START_DATE_DEID',\n",
       "       'END_DATE_DEID', 'NAME', 'THERA_CLASS_NAME', 'PHARM_CLASS_NAME',\n",
       "       'PHARM_SUBCLASS_NAME', 'GENERIC_NAME', 'STRENGTH', 'FORM', 'ROUTE',\n",
       "       'FREQ_NAME', 'ORDER_DOSE', 'ORDER_DOSE_UNIT_NAME', 'MAR_LINE',\n",
       "       'MAR_TAKEN_TIME_DEID', 'MAR_ACTION_NAME', 'MAR_ROUTE_NAME'],\n",
       "      dtype='object')"
      ]
     },
     "execution_count": 13,
     "metadata": {},
     "output_type": "execute_result"
    }
   ],
   "source": [
    "# columns in the medication dataset\n",
    "med_data.columns"
   ]
  },
  {
   "cell_type": "code",
   "execution_count": 14,
   "id": "d90a38af",
   "metadata": {},
   "outputs": [
    {
     "name": "stdout",
     "output_type": "stream",
     "text": [
      "number of unique patients: 1000\n",
      "number of medication records: 630364\n"
     ]
    }
   ],
   "source": [
    "print(\"number of unique patients: {}\".format(med_data.PATIENT_DEID.nunique()))\n",
    "print(\"number of medication records: {}\".format(len(med_data)))"
   ]
  },
  {
   "cell_type": "markdown",
   "id": "b591d4a7",
   "metadata": {},
   "source": [
    "# 2. Preprocessing"
   ]
  },
  {
   "cell_type": "markdown",
   "id": "96088cba",
   "metadata": {},
   "source": [
    "## 2.1 Medication data"
   ]
  },
  {
   "cell_type": "code",
   "execution_count": 15,
   "id": "2452e971",
   "metadata": {},
   "outputs": [],
   "source": [
    "# Removing rows where the \"DESCRIPTION\" column is NaN (missing)\n",
    "med_data = med_data.dropna(subset=[\"DESCRIPTION\"])\n",
    "\n",
    "# Converting the strings in the \"DESCRIPTION\" column to uppercase\n",
    "med_data[\"DESCRIPTION\"] = med_data[\"DESCRIPTION\"].str.upper()\n",
    "\n",
    "# Mapping the \"DESCRIPTION\" to \"FIRST_NAME\" using a dictionary (med_dict)\n",
    "med_data[\"FIRST_NAME\"] = med_data[\"DESCRIPTION\"].map(med_dict)\n",
    "\n",
    "# Mapping the \"DESCRIPTION\" to \"ROUTE\" using a dictionary (route_dict)\n",
    "med_data[\"ROUTE\"] = med_data[\"DESCRIPTION\"].map(route_dict)\n",
    "\n",
    "# Removing rows where the \"FIRST_NAME\" column is NaN (missing)\n",
    "med_data = med_data.dropna(subset=[\"FIRST_NAME\"])\n",
    "\n",
    "# List of medication actions that are considered as 'given'\n",
    "med_given = [\"Given\", \"New Bag\", \"Restarted\", \"Rate Change\"]\n",
    "\n",
    "# Filtering the data to include only the rows where \"MAR_ACTION_NAME\" \n",
    "# is in the 'med_given' list, and selecting specific columns to keep\n",
    "med_data = med_data[med_data[\"MAR_ACTION_NAME\"].isin(med_given)][\n",
    "    [\"PATIENT_DEID\", \"MAR_TAKEN_TIME_DEID\", \"DESCRIPTION\", \"MEDICATION_ID\", \"FIRST_NAME\", \"ROUTE\"]\n",
    "]\n"
   ]
  },
  {
   "cell_type": "code",
   "execution_count": 16,
   "id": "28619d9d",
   "metadata": {},
   "outputs": [],
   "source": [
    "# Removing non-medication/free-notes that are irrelavent\n",
    "\n",
    "meds_to_remove = [\"ABCIXIMAB INFUSION\", \n",
    "    \"ZZ IMS TEMPLATE\",\n",
    "    \"BLOOD SUGAR DIAGNOSTIC STRIPS\",\n",
    "    \"INFUSION BAG BUILDER (ALL ROUTES AVAILABLE)\",\n",
    "    \"PHARMACY COMMUNICATION PHARMACY DOSING ANTIBIOTIC\",\n",
    "    \"NON FORMULARY\",\n",
    "    \"PHARMACY COMMUNICATION - LIQUID/SOLID MEDICATIONS (REX)\",\n",
    "    \"CHEMO CLARIFICATION ORDER\",\n",
    "    \"NON FORMULARY\",\n",
    "    \"ADULT 3-IN-1 TPN UNC TEMPLATE\",\n",
    "    \"PET RB-82\",\n",
    "    \"OR SMALL VOLUME BUILDER\",\n",
    "    \"OR IRRIGATION BUILDER\",\n",
    "    \"OKAY TO SEND MEDICATION/CHEMOTHERAPY TO UNIT\",\n",
    "    \"OR SMALL VOLUME BUILDER (UNC)\",\n",
    "    \"IP OKAY TO TREAT\",\n",
    "    \"BLOOD-GLUCOSE METER KIT\",\n",
    "    \"BLOOD SUGAR DIAGNOSTIC STRIPS\",\n",
    "    \"LANCETS\",\n",
    "    \"MINERAL OIL\",\n",
    "    \"BLOOD-GLUCOSE METER\",\n",
    "    \"WATER FOR IRRIGATION, STERILE SOLUTION\",\n",
    "    \"WHITE PETROLATUM\",\n",
    "    \"VACCINE\",\n",
    "    'TPN', 'PET RB-82', 'OR SMALL VOLUME BUILDER',\n",
    "       'OR IRRIGATION BUILDER', 'OR SMALL VOLUME BUILDER (UNC)', \"ADULT CUSTOM IV INFUSION BUILDER (HELP)\"]\n",
    "\n",
    "med_data = med_data[~med_data['FIRST_NAME'].isin(meds_to_remove)]\n",
    "\n"
   ]
  },
  {
   "cell_type": "markdown",
   "id": "4005ca4a",
   "metadata": {},
   "source": [
    "## 2.2 Master table"
   ]
  },
  {
   "cell_type": "code",
   "execution_count": 18,
   "id": "938a5897",
   "metadata": {},
   "outputs": [],
   "source": [
    "# Selecting specific columns from the master_table to create a new dataframe, selected_feature\n",
    "selected_feature = master_table[\n",
    "    [\"PATIENT_DEID\", \"ICU_stay_N\", \"age_at_time\", \"race_comb\", \"score_24h\", \"Death_at_discharge\",\n",
    "     \"Delirium_ICU\", \"AKI\", \"total_length_days\", \"Mechanical_ventilation\", \"dur_MV_days\",\n",
    "     \"admission_dx\", \"first_MV\", \"firstMV_fac\", \"vasopressor_ICU_day\"]\n",
    "].copy()\n",
    "\n",
    "# DURATION FILLING\n",
    "# Replacing NaN values in 'dur_MV_days' and 'vasopressor_ICU_day' columns with 0\n",
    "selected_feature.loc[:, \"dur_MV_days\"] = selected_feature[\"dur_MV_days\"].fillna(0)\n",
    "selected_feature.loc[:, \"vasopressor_ICU_day\"] = selected_feature[\"vasopressor_ICU_day\"].fillna(0)\n",
    "\n",
    "# Replacing NaN values in 'total_length_days' and 'first_MV' columns with 0, using dot notation for accessing columns\n",
    "selected_feature.total_length_days = selected_feature.total_length_days.fillna(0)\n",
    "selected_feature.first_MV = selected_feature.first_MV.fillna(0)\n",
    "\n",
    "# Replacing any remaining NaN values in the dataframe with \"Unknown\"\n",
    "selected_feature = selected_feature.fillna(\"Unknown\")\n"
   ]
  },
  {
   "cell_type": "code",
   "execution_count": 20,
   "id": "74a337b4",
   "metadata": {},
   "outputs": [
    {
     "data": {
      "text/plain": [
       "'\\n# ALL BINARIZE\\nselected_feature = selected_feature.fillna(0)\\nselected_features = selected_feature.replace(\"No\", 0)\\nselected_features = selected_feature.replace(\"Yes\", 1)\\nselected_features = selected_feature.replace(\"Negative\", 0)\\nselected_features = selected_feature.replace(\"Positive\", 1)\\nselected_features.firstMV_fac = selected_features.firstMV_fac.replace(\"none\", -1)\\nselected_features.firstMV_fac = selected_features.firstMV_fac.replace(\"before 24h\", 0)\\nselected_features.firstMV_fac = selected_features.firstMV_fac.replace(\"after 24h\", 1)\\n\\nselected_feature.loc[selected_feature[\"Death_at_discharge\"] == \"dead_at_discharge\", \"Death_at_discharge\"] = 1\\nselected_feature.loc[selected_feature[\"Death_at_discharge\"] == \"alive\", \"Death_at_discharge\"] = 0\\n'"
      ]
     },
     "execution_count": 20,
     "metadata": {},
     "output_type": "execute_result"
    }
   ],
   "source": [
    "\"\"\"\n",
    "# ALL BINARIZE\n",
    "selected_feature = selected_feature.fillna(0)\n",
    "selected_features = selected_feature.replace(\"No\", 0)\n",
    "selected_features = selected_feature.replace(\"Yes\", 1)\n",
    "selected_features = selected_feature.replace(\"Negative\", 0)\n",
    "selected_features = selected_feature.replace(\"Positive\", 1)\n",
    "selected_features.firstMV_fac = selected_features.firstMV_fac.replace(\"none\", -1)\n",
    "selected_features.firstMV_fac = selected_features.firstMV_fac.replace(\"before 24h\", 0)\n",
    "selected_features.firstMV_fac = selected_features.firstMV_fac.replace(\"after 24h\", 1)\n",
    "\n",
    "selected_feature.loc[selected_feature[\"Death_at_discharge\"] == \"dead_at_discharge\", \"Death_at_discharge\"] = 1\n",
    "selected_feature.loc[selected_feature[\"Death_at_discharge\"] == \"alive\", \"Death_at_discharge\"] = 0\n",
    "\"\"\""
   ]
  },
  {
   "cell_type": "markdown",
   "id": "f6816a01",
   "metadata": {},
   "source": [
    "# 3. Create dataset"
   ]
  },
  {
   "cell_type": "markdown",
   "id": "8f72112f",
   "metadata": {},
   "source": [
    "## 3.1 Dataset with route info"
   ]
  },
  {
   "cell_type": "code",
   "execution_count": 23,
   "id": "cd7bfcf2",
   "metadata": {},
   "outputs": [],
   "source": [
    "# Copying specific columns from med_data to create a new dataframe, temp\n",
    "temp = med_data[[\"PATIENT_DEID\", \"FIRST_NAME\", \"ROUTE\"]].copy()\n",
    "\n",
    "# Creating a new column 'FIRST_NAME_ROUTE' by concatenating 'FIRST_NAME' and 'ROUTE' columns with a space in between\n",
    "temp.loc[:, \"FIRST_NAME_ROUTE\"] = temp.FIRST_NAME + \" \" + temp.ROUTE\n",
    "\n",
    "# Dropping the now redundant 'FIRST_NAME' and 'ROUTE' columns\n",
    "temp = temp.drop([\"FIRST_NAME\", \"ROUTE\"], axis=1)\n",
    "\n",
    "# Removing duplicate rows from temp\n",
    "temp = temp.drop_duplicates()"
   ]
  },
  {
   "cell_type": "code",
   "execution_count": 25,
   "id": "56f621b6",
   "metadata": {},
   "outputs": [],
   "source": [
    "# Grouping the data by 'PATIENT_DEID', and aggregating the unique medications ('FIRST_NAME_ROUTE') into lists\n",
    "meds_per_pt = temp.groupby(\"PATIENT_DEID\")[\"FIRST_NAME_ROUTE\"].apply(list).reset_index(name=\"GIVEN_MEDS\")"
   ]
  },
  {
   "cell_type": "code",
   "execution_count": 27,
   "id": "18c3ae35",
   "metadata": {},
   "outputs": [],
   "source": [
    "# Importing TransactionEncoder from mlxtend.preprocessing\n",
    "from mlxtend.preprocessing import TransactionEncoder\n",
    "\n",
    "# Converting 'GIVEN_MEDS' column values into a list of lists\n",
    "aki_meds = meds_per_pt.GIVEN_MEDS.tolist()\n",
    "\n",
    "# Initializing TransactionEncoder and transforming the data\n",
    "te = TransactionEncoder()\n",
    "te_ary = te.fit(aki_meds).transform(aki_meds)\n",
    "\n",
    "# Creating a new DataFrame from the transformed array\n",
    "df = pd.DataFrame(te_ary, columns=te.columns_)"
   ]
  },
  {
   "cell_type": "code",
   "execution_count": 28,
   "id": "a9992e2b",
   "metadata": {},
   "outputs": [],
   "source": [
    "# Adding 'PATIENT_DEID' and 'GIVEN_MEDS' columns to the new DataFrame\n",
    "df[\"PATIENT_DEID\"] = meds_per_pt[\"PATIENT_DEID\"]\n",
    "df[\"GIVEN\"] = meds_per_pt[\"GIVEN_MEDS\"]\n",
    "\n",
    "# Merging the new DataFrame with the selected_feature DataFrame based on 'PATIENT_DEID'\n",
    "vec_med_features = pd.merge(df, selected_feature, on=\"PATIENT_DEID\")"
   ]
  },
  {
   "cell_type": "code",
   "execution_count": 31,
   "id": "0eb7a563",
   "metadata": {},
   "outputs": [],
   "source": [
    "vec_med_features.to_csv(\"vec_med_features_1029.csv\", index = False)"
   ]
  },
  {
   "cell_type": "markdown",
   "id": "f700f1f4",
   "metadata": {},
   "source": [
    "## 3.2 Dataset *without* route info"
   ]
  },
  {
   "cell_type": "code",
   "execution_count": 33,
   "id": "685f7c3c",
   "metadata": {},
   "outputs": [],
   "source": [
    "temp = med_data[[\"PATIENT_DEID\", \"FIRST_NAME\"]].copy()\n",
    "\n",
    "# Removing duplicate rows from temp\n",
    "temp = temp.drop_duplicates()\n",
    "\n",
    "# Grouping the data by 'PATIENT_DEID' and aggregating the unique medications ('FIRST_NAME') into lists\n",
    "meds_per_pt = temp.groupby(\"PATIENT_DEID\")[\"FIRST_NAME\"].apply(list).reset_index(name=\"GIVEN_MEDS\")\n"
   ]
  },
  {
   "cell_type": "code",
   "execution_count": 34,
   "id": "7f5f5d2d",
   "metadata": {},
   "outputs": [],
   "source": [
    "# Importing TransactionEncoder from mlxtend.preprocessing for binary encoding of the medications\n",
    "from mlxtend.preprocessing import TransactionEncoder\n",
    "\n",
    "# Converting 'GIVEN_MEDS' column values into a list of lists\n",
    "aki_meds = meds_per_pt.GIVEN_MEDS.tolist()\n",
    "\n",
    "# Initializing TransactionEncoder and applying fit and transform to the medication lists\n",
    "te = TransactionEncoder()\n",
    "te_ary = te.fit(aki_meds).transform(aki_meds)\n",
    "\n",
    "# Creating a new DataFrame from the binary encoded array and naming the columns\n",
    "df = pd.DataFrame(te_ary, columns=te.columns_)"
   ]
  },
  {
   "cell_type": "code",
   "execution_count": 35,
   "id": "7f1afed4",
   "metadata": {},
   "outputs": [],
   "source": [
    "# Adding 'PATIENT_DEID' and 'GIVEN_MEDS' columns back to the new DataFrame\n",
    "df[\"PATIENT_DEID\"] = meds_per_pt[\"PATIENT_DEID\"]\n",
    "df[\"GIVEN\"] = meds_per_pt[\"GIVEN_MEDS\"]\n",
    "\n",
    "# Merging the binary encoded DataFrame with the selected_feature DataFrame on 'PATIENT_DEID'\n",
    "vec_med_features = pd.merge(df, selected_feature, on=\"PATIENT_DEID\")"
   ]
  },
  {
   "cell_type": "code",
   "execution_count": 37,
   "id": "59dd6a1c",
   "metadata": {},
   "outputs": [],
   "source": [
    "vec_med_features.to_csv(\"vec_med_no_route_features_1029.csv\", index = False)"
   ]
  },
  {
   "cell_type": "code",
   "execution_count": null,
   "id": "ae9bf639",
   "metadata": {},
   "outputs": [],
   "source": []
  }
 ],
 "metadata": {
  "kernelspec": {
   "display_name": "Python 3",
   "language": "python",
   "name": "python3"
  },
  "language_info": {
   "codemirror_mode": {
    "name": "ipython",
    "version": 3
   },
   "file_extension": ".py",
   "mimetype": "text/x-python",
   "name": "python",
   "nbconvert_exporter": "python",
   "pygments_lexer": "ipython3",
   "version": "3.11.5"
  }
 },
 "nbformat": 4,
 "nbformat_minor": 5
}
